{
 "cells": [
  {
   "cell_type": "code",
   "execution_count": 1,
   "id": "70e8ee53-7216-4d53-9705-3a39ed5adab2",
   "metadata": {},
   "outputs": [
    {
     "name": "stdout",
     "output_type": "stream",
     "text": [
      "CPU times: user 149 µs, sys: 26 µs, total: 175 µs\n",
      "Wall time: 182 µs\n"
     ]
    },
    {
     "data": {
      "text/plain": [
       "1225"
      ]
     },
     "execution_count": 1,
     "metadata": {},
     "output_type": "execute_result"
    }
   ],
   "source": [
    "%time sum(srange(50))"
   ]
  },
  {
   "cell_type": "code",
   "execution_count": 13,
   "id": "a1c23269-93ad-44d1-9b90-20baa79398e2",
   "metadata": {},
   "outputs": [
    {
     "name": "stdout",
     "output_type": "stream",
     "text": [
      "CPU times: user 2 µs, sys: 1 µs, total: 3 µs\n",
      "Wall time: 4.77 µs\n"
     ]
    }
   ],
   "source": [
    "%time \n",
    "for i in srange(500):\n",
    "    (x^2+x+3).substitute(x=i)"
   ]
  },
  {
   "cell_type": "code",
   "execution_count": 12,
   "id": "7f699acc-f9ce-46df-bd41-e2e9f35eb212",
   "metadata": {},
   "outputs": [
    {
     "name": "stdout",
     "output_type": "stream",
     "text": [
      "CPU times: user 2 µs, sys: 1e+03 ns, total: 3 µs\n",
      "Wall time: 4.05 µs\n"
     ]
    }
   ],
   "source": [
    "%time \n",
    "for i in srange(500):\n",
    "    (x*(x+1)+3).substitute(x=i)"
   ]
  },
  {
   "cell_type": "code",
   "execution_count": null,
   "id": "986c09aa-2c1f-4422-8b95-21d9dd547316",
   "metadata": {},
   "outputs": [],
   "source": []
  }
 ],
 "metadata": {
  "kernelspec": {
   "display_name": "SageMath 10.1",
   "language": "sage",
   "name": "sagemath-10.1"
  },
  "language_info": {
   "codemirror_mode": {
    "name": "ipython",
    "version": 3
   },
   "file_extension": ".py",
   "mimetype": "text/x-python",
   "name": "python",
   "nbconvert_exporter": "python",
   "pygments_lexer": "ipython3",
   "version": "3.11.1"
  }
 },
 "nbformat": 4,
 "nbformat_minor": 5
}
