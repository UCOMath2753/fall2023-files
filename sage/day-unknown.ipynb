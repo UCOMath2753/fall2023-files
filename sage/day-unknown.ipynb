{
 "cells": [
  {
   "cell_type": "code",
   "execution_count": 27,
   "id": "f70cc8d6",
   "metadata": {},
   "outputs": [
    {
     "name": "stdout",
     "output_type": "stream",
     "text": [
      "f(x + h) = h^2 + 2*h*x + x^2\n",
      "deltaf = (h + 2*x)*h\n",
      "msec = h + 2*x\n",
      "df/dx = mtan = 2*x\n"
     ]
    }
   ],
   "source": [
    "## write a limit definition calculator for the derivative\n",
    "def lim_def(expr):\n",
    "    var('h')\n",
    "    f(x) = expr\n",
    "    ## do more work here\n",
    "    print('f(x + h) =', expand(f(x + h)))\n",
    "    deltaf = factor(expand(f(x + h) - f(x)))\n",
    "    print('deltaf =', deltaf)\n",
    "    msec = simplify(deltaf/h)\n",
    "    print('msec =', msec)\n",
    "    mtan = limit(msec, h = 0)\n",
    "    print('df/dx = mtan =',mtan)\n",
    "lim_def(x^2)\n",
    "## \"do more work here\" means, \n",
    "## add more context/feedback to the output,\n",
    "## perhaps show more steps\n",
    "## give labels"
   ]
  },
  {
   "cell_type": "code",
   "execution_count": 28,
   "id": "52afa477",
   "metadata": {},
   "outputs": [
    {
     "name": "stdout",
     "output_type": "stream",
     "text": [
      "f(x + h) = h^2 + 2*h*x + x^2 + h + x\n",
      "deltaf = (h + 2*x + 1)*h\n",
      "msec = h + 2*x + 1\n",
      "df/dx = mtan = 2*x + 1\n"
     ]
    }
   ],
   "source": [
    "lim_def(x^2+x)"
   ]
  },
  {
   "cell_type": "code",
   "execution_count": 30,
   "id": "6f94da36",
   "metadata": {},
   "outputs": [],
   "source": [
    "## lim_def(exp(x))\n",
    "## breaks our program due to factoring and dividing common h"
   ]
  },
  {
   "cell_type": "code",
   "execution_count": 7,
   "id": "0d429425",
   "metadata": {},
   "outputs": [],
   "source": [
    "## challenge tabulate values of (e^h - 1)/h as h -> 0\n",
    "## hint: use table code from last time\n",
    "## the answer will be 1\n",
    "## Two-column table evaluating (e^h-1)/h as h -> 0"
   ]
  },
  {
   "cell_type": "code",
   "execution_count": 32,
   "id": "cb50b7e3",
   "metadata": {},
   "outputs": [
    {
     "data": {
      "text/plain": [
       "1"
      ]
     },
     "execution_count": 32,
     "metadata": {},
     "output_type": "execute_result"
    }
   ],
   "source": [
    "limit((exp(h) - 1)/h, h=0)"
   ]
  },
  {
   "cell_type": "code",
   "execution_count": 60,
   "id": "7adce679",
   "metadata": {},
   "outputs": [
    {
     "name": "stdout",
     "output_type": "stream",
     "text": [
      "h | f(h)\n",
      "-0.1000 | 0.9516\n",
      "-0.0100 | 0.9950\n",
      "-0.0010 | 0.9995\n",
      "-0.0001 | 1.0000\n",
      " 0.0001 | 1.0001\n",
      " 0.0010 | 1.0005\n",
      " 0.0100 | 1.0050\n",
      " 0.1000 | 1.0517\n"
     ]
    }
   ],
   "source": [
    "var('h')\n",
    "f(h) = (exp(h) - 1)/h\n",
    "print('h | f(h)')\n",
    "for h in [-0.1, -0.01, -0.001, -0.0001, 0.0001, 0.001, 0.01, 0.1]:\n",
    "    print('% .4f | %.4f'%(h, f(h)))"
   ]
  },
  {
   "cell_type": "code",
   "execution_count": 65,
   "id": "802f0c3f",
   "metadata": {},
   "outputs": [
    {
     "name": "stdout",
     "output_type": "stream",
     "text": [
      "x^2 + 2*x*y + y^2\n",
      "x^3 + 3*x^2*y + 3*x*y^2 + y^3\n",
      "x^4 + 4*x^3*y + 6*x^2*y^2 + 4*x*y^3 + y^4\n"
     ]
    }
   ],
   "source": [
    "var('y')\n",
    "print(expand((x + y)^2))\n",
    "print(expand((x + y)^3))\n",
    "print(expand((x + y)^4))"
   ]
  },
  {
   "cell_type": "code",
   "execution_count": 67,
   "id": "ca6d06cd",
   "metadata": {},
   "outputs": [
    {
     "data": {
      "text/plain": [
       "6"
      ]
     },
     "execution_count": 67,
     "metadata": {},
     "output_type": "execute_result"
    }
   ],
   "source": [
    "binomial(4, 2)"
   ]
  },
  {
   "cell_type": "code",
   "execution_count": 71,
   "id": "b6dce6fd",
   "metadata": {},
   "outputs": [
    {
     "data": {
      "text/plain": [
       "[1, 8, 28, 56, 70, 56, 28, 8, 1]"
      ]
     },
     "execution_count": 71,
     "metadata": {},
     "output_type": "execute_result"
    }
   ],
   "source": [
    "## row by row generator for the Pascal/Pingala\n",
    "n = 8\n",
    "[binomial(n, k) for k in srange(n + 1)]"
   ]
  },
  {
   "cell_type": "code",
   "execution_count": 74,
   "id": "0f0107d8",
   "metadata": {},
   "outputs": [
    {
     "data": {
      "text/plain": [
       "[1, 1, 2, 6, 24]"
      ]
     },
     "execution_count": 74,
     "metadata": {},
     "output_type": "execute_result"
    }
   ],
   "source": [
    "[factorial(j) for j in srange(5)]"
   ]
  },
  {
   "cell_type": "code",
   "execution_count": 84,
   "id": "cea1b964",
   "metadata": {},
   "outputs": [
    {
     "data": {
      "image/png": "[encoded data removed]",
      "text/plain": [
       "Graphics object consisting of 2 graphics primitives"
      ]
     },
     "execution_count": 84,
     "metadata": {},
     "output_type": "execute_result"
    }
   ],
   "source": [
    "f(x) = exp(x)\n",
    "taylor(f(x), x, 0, 2)\n",
    "plot(f(x), x, -5, 5, ymin = 0, ymax = 10) + plot(taylor(f(x), x, 0, 2), x, -5, 5, color = \"red\")"
   ]
  }
 ],
 "metadata": {
  "kernelspec": {
   "display_name": "SageMath 10.1",
   "language": "sage",
   "name": "sagemath"
  },
  "language_info": {
   "codemirror_mode": {
    "name": "ipython",
    "version": 3
   },
   "file_extension": ".py",
   "mimetype": "text/x-python",
   "name": "python",
   "nbconvert_exporter": "python",
   "pygments_lexer": "ipython3",
   "version": "3.11.1"
  }
 },
 "nbformat": 4,
 "nbformat_minor": 5
}
